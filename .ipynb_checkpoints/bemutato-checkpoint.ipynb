{
 "cells": [
  {
   "cell_type": "code",
   "execution_count": 2,
   "metadata": {},
   "outputs": [],
   "source": [
    "# import field\n",
    "from keras.datasets import fashion_mnist\n",
    "import numpy as np\n",
    "from keras.utils import to_categorical\n",
    "import matplotlib.pyplot as plt\n",
    "from sklearn.model_selection import train_test_split\n",
    "import keras\n",
    "\n",
    "# for the convolution\n",
    "from keras.models import Sequential,Input,Model\n",
    "from keras.layers import Dense, Dropout, Flatten\n",
    "from keras.layers import Conv2D, MaxPooling2D\n",
    "from keras.layers.normalization import BatchNormalization\n",
    "from keras.layers.advanced_activations import LeakyReLU\n",
    "from sklearn.metrics import classification_report\n"
   ]
  },
  {
   "cell_type": "code",
   "execution_count": 3,
   "metadata": {},
   "outputs": [],
   "source": [
    "#Függvény definíciók\n",
    "\n",
    "def draw_first_training():\n",
    "    plt.figure(figsize=[5,5])\n",
    "    plt.subplot(121)\n",
    "    plt.imshow(train_X[0,:,:], cmap='gray')\n",
    "    plt.title(\"Ground Truth : {}\".format(train_Y[0]))\n",
    "\n",
    "def draw_first_test():\n",
    "    plt.figure(figsize=[5,5])\n",
    "    plt.subplot(122)\n",
    "    plt.imshow(test_X[0,:,:], cmap='gray')\n",
    "    plt.title(\"Ground Truth : {}\".format(test_Y[0]))\n",
    "\n",
    "def createModel():\n",
    "    #num_classes = 10\n",
    "    fashion_model = Sequential()\n",
    "    fashion_model.add(Conv2D(32, kernel_size=(3, 3),activation='linear',input_shape=(28,28,1),padding='same'))\n",
    "    fashion_model.add(LeakyReLU(alpha=0.1))\n",
    "    fashion_model.add(MaxPooling2D((2, 2),padding='same'))\n",
    "    fashion_model.add(Conv2D(64, (3, 3), activation='linear',padding='same'))\n",
    "    fashion_model.add(LeakyReLU(alpha=0.1))\n",
    "    fashion_model.add(MaxPooling2D(pool_size=(2, 2),padding='same'))\n",
    "    fashion_model.add(Conv2D(128, (3, 3), activation='linear',padding='same'))\n",
    "    fashion_model.add(LeakyReLU(alpha=0.1))                  \n",
    "    fashion_model.add(MaxPooling2D(pool_size=(2, 2),padding='same'))\n",
    "    fashion_model.add(Flatten())\n",
    "    fashion_model.add(Dense(128, activation='linear'))\n",
    "    fashion_model.add(LeakyReLU(alpha=0.1))                  \n",
    "    fashion_model.add(Dense(num_classes, activation='softmax'))\n",
    "    return fashion_model\n",
    "def createModel_Dropout():\n",
    "    dropout_model = Sequential()\n",
    "    dropout_model.add(Conv2D(32, kernel_size=(3, 3),activation='linear',padding='same',input_shape=(28,28,1)))\n",
    "    dropout_model.add(LeakyReLU(alpha=0.1))\n",
    "    dropout_model.add(MaxPooling2D((2, 2),padding='same'))\n",
    "    dropout_model.add(Dropout(0.25))\n",
    "    dropout_model.add(Conv2D(64, (3, 3), activation='linear',padding='same'))\n",
    "    dropout_model.add(LeakyReLU(alpha=0.1))\n",
    "    dropout_model.add(MaxPooling2D(pool_size=(2, 2),padding='same'))\n",
    "    dropout_model.add(Dropout(0.25))\n",
    "    dropout_model.add(Conv2D(128, (3, 3), activation='linear',padding='same'))\n",
    "    dropout_model.add(LeakyReLU(alpha=0.1))                  \n",
    "    dropout_model.add(MaxPooling2D(pool_size=(2, 2),padding='same'))\n",
    "    dropout_model.add(Dropout(0.4))\n",
    "    dropout_model.add(Flatten())\n",
    "    dropout_model.add(Dense(128, activation='linear'))\n",
    "    dropout_model.add(LeakyReLU(alpha=0.1))           \n",
    "    dropout_model.add(Dropout(0.3))\n",
    "    dropout_model.add(Dense(num_classes, activation='softmax'))\n",
    "    return dropout_model\n",
    "\n",
    "\n",
    "def draw_chart():\n",
    "    accuracy = fashion_train.history['acc']\n",
    "    val_accuracy = fashion_train.history['val_acc']\n",
    "    loss = fashion_train.history['loss']\n",
    "    val_loss = fashion_train.history['val_loss']\n",
    "    epochs = range(len(accuracy))\n",
    "    plt.plot(epochs, accuracy, 'bo', label='Training accuracy')\n",
    "    plt.plot(epochs, val_accuracy, 'b', label='Validation accuracy')\n",
    "    plt.title('Training and validation accuracy')\n",
    "    plt.legend()\n",
    "    plt.figure()\n",
    "    plt.plot(epochs, loss, 'bo', label='Training loss')\n",
    "    plt.plot(epochs, val_loss, 'b', label='Validation loss')\n",
    "    plt.title('Training and validation loss')\n",
    "    plt.legend()\n",
    "    plt.show()\n",
    "    \n",
    "def show_correct():\n",
    "    correct = np.where(predicted_classes==test_Y)[0]\n",
    "    print (\"Found %d correct labels\" % len(correct))\n",
    "    for i, correct in enumerate(correct[:9]):\n",
    "        plt.subplot(3,3,i+1)\n",
    "        plt.imshow(test_X[correct].reshape(28,28), cmap='gray', interpolation='none')\n",
    "        plt.title(\"Predicted {}, Class {}\".format(predicted_classes[correct], test_Y[correct]))\n",
    "        plt.tight_layout()\n",
    "\n",
    "def show_incorrect():\n",
    "    incorrect = np.where(predicted_classes!=test_Y)[0]\n",
    "    print (\"Found %d incorrect labels\" % len(incorrect))\n",
    "    for i, incorrect in enumerate(incorrect[:9]):\n",
    "        plt.subplot(3,3,i+1)\n",
    "        plt.imshow(test_X[incorrect].reshape(28,28), cmap='gray', interpolation='none')\n",
    "        plt.title(\"Predicted {}, Class {}\".format(predicted_classes[incorrect], test_Y[incorrect]))\n",
    "        plt.tight_layout()\n"
   ]
  },
  {
   "cell_type": "code",
   "execution_count": 4,
   "metadata": {},
   "outputs": [],
   "source": [
    "#%%\n",
    "# Tanuló és teszt halmaz létrehozása\n",
    "(train_X,train_Y), (test_X,test_Y) = fashion_mnist.load_data()"
   ]
  },
  {
   "cell_type": "code",
   "execution_count": 5,
   "metadata": {},
   "outputs": [
    {
     "name": "stdout",
     "output_type": "stream",
     "text": [
      "Training data shape :  (60000, 28, 28) (60000,)\n",
      "Testing data shape :  (10000, 28, 28) (10000,)\n"
     ]
    }
   ],
   "source": [
    "# Halmazok kiiratása\n",
    "get_ipython().run_line_magic('matplotlib', 'inline')\n",
    "print('Training data shape : ', train_X.shape, train_Y.shape)\n",
    "print('Testing data shape : ', test_X.shape, test_Y.shape)"
   ]
  },
  {
   "cell_type": "code",
   "execution_count": 6,
   "metadata": {},
   "outputs": [
    {
     "name": "stdout",
     "output_type": "stream",
     "text": [
      "Total number of outputs :  10\n",
      "Output classes :  [0 1 2 3 4 5 6 7 8 9]\n"
     ]
    }
   ],
   "source": [
    "#%%\n",
    "# Kimenetek kiiratása\n",
    "classes = np.unique(train_Y)\n",
    "nClasses = len(classes)\n",
    "print('Total number of outputs : ', nClasses)\n",
    "print('Output classes : ', classes)"
   ]
  },
  {
   "cell_type": "code",
   "execution_count": 7,
   "metadata": {},
   "outputs": [
    {
     "data": {
      "image/png": "[encoded data removed]",
      "text/plain": [
       "<Figure size 360x360 with 1 Axes>"
      ]
     },
     "metadata": {
      "needs_background": "light"
     },
     "output_type": "display_data"
    },
    {
     "data": {
      "image/png": "[encoded data removed]",
      "text/plain": [
       "<Figure size 360x360 with 1 Axes>"
      ]
     },
     "metadata": {
      "needs_background": "light"
     },
     "output_type": "display_data"
    }
   ],
   "source": [
    "# Halmazok első elemének kirajzolása\n",
    "draw_first_training()\n",
    "draw_first_test()"
   ]
  },
  {
   "cell_type": "code",
   "execution_count": 8,
   "metadata": {},
   "outputs": [
    {
     "data": {
      "text/plain": [
       "((60000, 28, 28, 1), (10000, 28, 28, 1))"
      ]
     },
     "execution_count": 8,
     "metadata": {},
     "output_type": "execute_result"
    }
   ],
   "source": [
    "train_X = train_X.reshape(-1, 28,28, 1)\n",
    "test_X = test_X.reshape(-1, 28,28, 1)\n",
    "train_X.shape, test_X.shape"
   ]
  },
  {
   "cell_type": "code",
   "execution_count": 9,
   "metadata": {},
   "outputs": [],
   "source": [
    "train_X = train_X.astype('float32')\n",
    "test_X = test_X.astype('float32')\n",
    "train_X = train_X / 255.\n",
    "test_X = test_X / 255."
   ]
  },
  {
   "cell_type": "code",
   "execution_count": 10,
   "metadata": {},
   "outputs": [
    {
     "name": "stdout",
     "output_type": "stream",
     "text": [
      "Original label: 9\n",
      "After conversion to one-hot: [0. 0. 0. 0. 0. 0. 0. 0. 0. 1.]\n"
     ]
    }
   ],
   "source": [
    "# Change the labels from categorical to one-hot encoding\n",
    "train_Y_one_hot = to_categorical(train_Y)\n",
    "test_Y_one_hot = to_categorical(test_Y)\n",
    "\n",
    "# Display the change for category label using one-hot encoding\n",
    "print('Original label:', train_Y[0])\n",
    "print('After conversion to one-hot:', train_Y_one_hot[0])"
   ]
  },
  {
   "cell_type": "code",
   "execution_count": 11,
   "metadata": {},
   "outputs": [
    {
     "data": {
      "text/plain": [
       "((48000, 28, 28, 1), (12000, 28, 28, 1), (48000, 10), (12000, 10))"
      ]
     },
     "execution_count": 11,
     "metadata": {},
     "output_type": "execute_result"
    }
   ],
   "source": [
    "train_X,valid_X,train_label,valid_label = train_test_split(train_X, train_Y_one_hot, test_size=0.2, random_state=13)\n",
    "train_X.shape,valid_X.shape,train_label.shape,valid_label.shape"
   ]
  },
  {
   "cell_type": "code",
   "execution_count": 12,
   "metadata": {},
   "outputs": [
    {
     "name": "stdout",
     "output_type": "stream",
     "text": [
      "WARNING:tensorflow:From C:\\Users\\hunor\\Anaconda3\\lib\\site-packages\\tensorflow\\python\\framework\\op_def_library.py:263: colocate_with (from tensorflow.python.framework.ops) is deprecated and will be removed in a future version.\n",
      "Instructions for updating:\n",
      "Colocations handled automatically by placer.\n",
      "_________________________________________________________________\n",
      "Layer (type)                 Output Shape              Param #   \n",
      "=================================================================\n",
      "conv2d_1 (Conv2D)            (None, 28, 28, 32)        320       \n",
      "_________________________________________________________________\n",
      "leaky_re_lu_1 (LeakyReLU)    (None, 28, 28, 32)        0         \n",
      "_________________________________________________________________\n",
      "max_pooling2d_1 (MaxPooling2 (None, 14, 14, 32)        0         \n",
      "_________________________________________________________________\n",
      "conv2d_2 (Conv2D)            (None, 14, 14, 64)        18496     \n",
      "_________________________________________________________________\n",
      "leaky_re_lu_2 (LeakyReLU)    (None, 14, 14, 64)        0         \n",
      "_________________________________________________________________\n",
      "max_pooling2d_2 (MaxPooling2 (None, 7, 7, 64)          0         \n",
      "_________________________________________________________________\n",
      "conv2d_3 (Conv2D)            (None, 7, 7, 128)         73856     \n",
      "_________________________________________________________________\n",
      "leaky_re_lu_3 (LeakyReLU)    (None, 7, 7, 128)         0         \n",
      "_________________________________________________________________\n",
      "max_pooling2d_3 (MaxPooling2 (None, 4, 4, 128)         0         \n",
      "_________________________________________________________________\n",
      "flatten_1 (Flatten)          (None, 2048)              0         \n",
      "_________________________________________________________________\n",
      "dense_1 (Dense)              (None, 128)               262272    \n",
      "_________________________________________________________________\n",
      "leaky_re_lu_4 (LeakyReLU)    (None, 128)               0         \n",
      "_________________________________________________________________\n",
      "dense_2 (Dense)              (None, 10)                1290      \n",
      "=================================================================\n",
      "Total params: 356,234\n",
      "Trainable params: 356,234\n",
      "Non-trainable params: 0\n",
      "_________________________________________________________________\n"
     ]
    }
   ],
   "source": [
    "batch_size = 64\n",
    "epochs = 20\n",
    "num_classes = 10\n",
    "fashion_model1 = createModel()\n",
    "fashion_model1.compile(loss=keras.losses.categorical_crossentropy, optimizer=keras.optimizers.Adam(),metrics=['accuracy'])\n",
    "fashion_model1.summary()"
   ]
  },
  {
   "cell_type": "code",
   "execution_count": 13,
   "metadata": {},
   "outputs": [
    {
     "name": "stdout",
     "output_type": "stream",
     "text": [
      "WARNING:tensorflow:From C:\\Users\\hunor\\Anaconda3\\lib\\site-packages\\tensorflow\\python\\ops\\math_ops.py:3066: to_int32 (from tensorflow.python.ops.math_ops) is deprecated and will be removed in a future version.\n",
      "Instructions for updating:\n",
      "Use tf.cast instead.\n",
      "Train on 48000 samples, validate on 12000 samples\n",
      "Epoch 1/20\n",
      "48000/48000 [==============================] - 107s 2ms/step - loss: 0.4683 - acc: 0.8282 - val_loss: 0.3552 - val_acc: 0.8724\n",
      "Epoch 2/20\n",
      "48000/48000 [==============================] - 105s 2ms/step - loss: 0.2880 - acc: 0.8946 - val_loss: 0.2860 - val_acc: 0.8948\n",
      "Epoch 3/20\n",
      "48000/48000 [==============================] - 106s 2ms/step - loss: 0.2376 - acc: 0.9131 - val_loss: 0.2652 - val_acc: 0.8998\n",
      "Epoch 4/20\n",
      "48000/48000 [==============================] - 104s 2ms/step - loss: 0.2063 - acc: 0.9241 - val_loss: 0.2506 - val_acc: 0.9101\n",
      "Epoch 5/20\n",
      "48000/48000 [==============================] - 103s 2ms/step - loss: 0.1809 - acc: 0.9334 - val_loss: 0.2364 - val_acc: 0.9151\n",
      "Epoch 6/20\n",
      "48000/48000 [==============================] - 103s 2ms/step - loss: 0.1553 - acc: 0.9420 - val_loss: 0.2444 - val_acc: 0.9134\n",
      "Epoch 7/20\n",
      "48000/48000 [==============================] - 103s 2ms/step - loss: 0.1360 - acc: 0.9492 - val_loss: 0.2253 - val_acc: 0.9253\n",
      "Epoch 8/20\n",
      "48000/48000 [==============================] - 106s 2ms/step - loss: 0.1154 - acc: 0.9566 - val_loss: 0.2327 - val_acc: 0.9248\n",
      "Epoch 9/20\n",
      "48000/48000 [==============================] - 103s 2ms/step - loss: 0.0970 - acc: 0.9635 - val_loss: 0.2584 - val_acc: 0.9202\n",
      "Epoch 10/20\n",
      "48000/48000 [==============================] - 104s 2ms/step - loss: 0.0823 - acc: 0.9683 - val_loss: 0.2540 - val_acc: 0.9283\n",
      "Epoch 11/20\n",
      "48000/48000 [==============================] - 104s 2ms/step - loss: 0.0680 - acc: 0.9748 - val_loss: 0.2998 - val_acc: 0.9183\n",
      "Epoch 12/20\n",
      "48000/48000 [==============================] - 103s 2ms/step - loss: 0.0608 - acc: 0.9771 - val_loss: 0.2884 - val_acc: 0.9225\n",
      "Epoch 13/20\n",
      "48000/48000 [==============================] - 103s 2ms/step - loss: 0.0535 - acc: 0.9796 - val_loss: 0.3285 - val_acc: 0.9193\n",
      "Epoch 14/20\n",
      "48000/48000 [==============================] - 103s 2ms/step - loss: 0.0462 - acc: 0.9828 - val_loss: 0.3356 - val_acc: 0.9228\n",
      "Epoch 15/20\n",
      "48000/48000 [==============================] - 110s 2ms/step - loss: 0.0423 - acc: 0.9837 - val_loss: 0.3553 - val_acc: 0.9232\n",
      "Epoch 16/20\n",
      "48000/48000 [==============================] - 106s 2ms/step - loss: 0.0330 - acc: 0.9881 - val_loss: 0.3955 - val_acc: 0.9237\n",
      "Epoch 17/20\n",
      "48000/48000 [==============================] - 104s 2ms/step - loss: 0.0366 - acc: 0.9866 - val_loss: 0.3872 - val_acc: 0.9230\n",
      "Epoch 18/20\n",
      "48000/48000 [==============================] - 106s 2ms/step - loss: 0.0295 - acc: 0.9885 - val_loss: 0.4191 - val_acc: 0.9196\n",
      "Epoch 19/20\n",
      "48000/48000 [==============================] - 107s 2ms/step - loss: 0.0317 - acc: 0.9885 - val_loss: 0.4370 - val_acc: 0.9201\n",
      "Epoch 20/20\n",
      "48000/48000 [==============================] - 104s 2ms/step - loss: 0.0284 - acc: 0.9903 - val_loss: 0.4451 - val_acc: 0.9200\n"
     ]
    }
   ],
   "source": [
    "fashion_train = fashion_model1.fit(train_X, train_label, batch_size=batch_size,epochs=epochs,verbose=1,validation_data=(valid_X, valid_label))"
   ]
  },
  {
   "cell_type": "code",
   "execution_count": 21,
   "metadata": {},
   "outputs": [],
   "source": [
    "test_eval = fashion_model1.evaluate(test_X, test_Y_one_hot, verbose=0)"
   ]
  },
  {
   "cell_type": "code",
   "execution_count": 22,
   "metadata": {},
   "outputs": [
    {
     "name": "stdout",
     "output_type": "stream",
     "text": [
      "Test loss: 0.48788998839014674\n",
      "Test accuracy: 0.9173\n"
     ]
    }
   ],
   "source": [
    "print('Test loss:', test_eval[0])\n",
    "print('Test accuracy:', test_eval[1])"
   ]
  },
  {
   "cell_type": "code",
   "execution_count": 16,
   "metadata": {},
   "outputs": [
    {
     "data": {
      "image/png": "[encoded data removed]",
      "text/plain": [
       "<Figure size 432x288 with 1 Axes>"
      ]
     },
     "metadata": {
      "needs_background": "light"
     },
     "output_type": "display_data"
    },
    {
     "data": {
      "image/png": "[encoded data removed]",
      "text/plain": [
       "<Figure size 432x288 with 1 Axes>"
      ]
     },
     "metadata": {
      "needs_background": "light"
     },
     "output_type": "display_data"
    }
   ],
   "source": [
    "draw_chart()"
   ]
  },
  {
   "cell_type": "code",
   "execution_count": 17,
   "metadata": {},
   "outputs": [],
   "source": [
    "batch_size = 64\n",
    "epochs = 20\n",
    "num_classes = 10"
   ]
  },
  {
   "cell_type": "code",
   "execution_count": 18,
   "metadata": {},
   "outputs": [
    {
     "name": "stdout",
     "output_type": "stream",
     "text": [
      "WARNING:tensorflow:From C:\\Users\\hunor\\Anaconda3\\lib\\site-packages\\keras\\backend\\tensorflow_backend.py:3445: calling dropout (from tensorflow.python.ops.nn_ops) with keep_prob is deprecated and will be removed in a future version.\n",
      "Instructions for updating:\n",
      "Please use `rate` instead of `keep_prob`. Rate should be set to `rate = 1 - keep_prob`.\n",
      "_________________________________________________________________\n",
      "Layer (type)                 Output Shape              Param #   \n",
      "=================================================================\n",
      "conv2d_4 (Conv2D)            (None, 28, 28, 32)        320       \n",
      "_________________________________________________________________\n",
      "leaky_re_lu_5 (LeakyReLU)    (None, 28, 28, 32)        0         \n",
      "_________________________________________________________________\n",
      "max_pooling2d_4 (MaxPooling2 (None, 14, 14, 32)        0         \n",
      "_________________________________________________________________\n",
      "dropout_1 (Dropout)          (None, 14, 14, 32)        0         \n",
      "_________________________________________________________________\n",
      "conv2d_5 (Conv2D)            (None, 14, 14, 64)        18496     \n",
      "_________________________________________________________________\n",
      "leaky_re_lu_6 (LeakyReLU)    (None, 14, 14, 64)        0         \n",
      "_________________________________________________________________\n",
      "max_pooling2d_5 (MaxPooling2 (None, 7, 7, 64)          0         \n",
      "_________________________________________________________________\n",
      "dropout_2 (Dropout)          (None, 7, 7, 64)          0         \n",
      "_________________________________________________________________\n",
      "conv2d_6 (Conv2D)            (None, 7, 7, 128)         73856     \n",
      "_________________________________________________________________\n",
      "leaky_re_lu_7 (LeakyReLU)    (None, 7, 7, 128)         0         \n",
      "_________________________________________________________________\n",
      "max_pooling2d_6 (MaxPooling2 (None, 4, 4, 128)         0         \n",
      "_________________________________________________________________\n",
      "dropout_3 (Dropout)          (None, 4, 4, 128)         0         \n",
      "_________________________________________________________________\n",
      "flatten_2 (Flatten)          (None, 2048)              0         \n",
      "_________________________________________________________________\n",
      "dense_3 (Dense)              (None, 128)               262272    \n",
      "_________________________________________________________________\n",
      "leaky_re_lu_8 (LeakyReLU)    (None, 128)               0         \n",
      "_________________________________________________________________\n",
      "dropout_4 (Dropout)          (None, 128)               0         \n",
      "_________________________________________________________________\n",
      "dense_4 (Dense)              (None, 10)                1290      \n",
      "=================================================================\n",
      "Total params: 356,234\n",
      "Trainable params: 356,234\n",
      "Non-trainable params: 0\n",
      "_________________________________________________________________\n"
     ]
    }
   ],
   "source": [
    "fashion_model2 = createModel_Dropout()\n",
    "fashion_model2.summary()"
   ]
  },
  {
   "cell_type": "code",
   "execution_count": 19,
   "metadata": {},
   "outputs": [],
   "source": [
    "fashion_model2.compile(loss=keras.losses.categorical_crossentropy, optimizer=keras.optimizers.Adam(),metrics=['accuracy'])"
   ]
  },
  {
   "cell_type": "code",
   "execution_count": 20,
   "metadata": {},
   "outputs": [
    {
     "name": "stdout",
     "output_type": "stream",
     "text": [
      "Train on 48000 samples, validate on 12000 samples\n",
      "Epoch 1/20\n",
      "48000/48000 [==============================] - 116s 2ms/step - loss: 0.6078 - acc: 0.7761 - val_loss: 0.3816 - val_acc: 0.8549\n",
      "Epoch 2/20\n",
      "48000/48000 [==============================] - 116s 2ms/step - loss: 0.3835 - acc: 0.8582 - val_loss: 0.3108 - val_acc: 0.8883\n",
      "Epoch 3/20\n",
      "48000/48000 [==============================] - 115s 2ms/step - loss: 0.3344 - acc: 0.8754 - val_loss: 0.2935 - val_acc: 0.8914\n",
      "Epoch 4/20\n",
      "48000/48000 [==============================] - 115s 2ms/step - loss: 0.3047 - acc: 0.8876 - val_loss: 0.2672 - val_acc: 0.9048\n",
      "Epoch 5/20\n",
      "48000/48000 [==============================] - 115s 2ms/step - loss: 0.2845 - acc: 0.8953 - val_loss: 0.2539 - val_acc: 0.9067\n",
      "Epoch 6/20\n",
      "48000/48000 [==============================] - 117s 2ms/step - loss: 0.2705 - acc: 0.8988 - val_loss: 0.2406 - val_acc: 0.9116\n",
      "Epoch 7/20\n",
      "48000/48000 [==============================] - 116s 2ms/step - loss: 0.2588 - acc: 0.9046 - val_loss: 0.2518 - val_acc: 0.9087\n",
      "Epoch 8/20\n",
      "48000/48000 [==============================] - 120s 3ms/step - loss: 0.2486 - acc: 0.9078 - val_loss: 0.2365 - val_acc: 0.9146\n",
      "Epoch 9/20\n",
      "48000/48000 [==============================] - 115s 2ms/step - loss: 0.2438 - acc: 0.9093 - val_loss: 0.2250 - val_acc: 0.9176\n",
      "Epoch 10/20\n",
      "48000/48000 [==============================] - 115s 2ms/step - loss: 0.2363 - acc: 0.9121 - val_loss: 0.2246 - val_acc: 0.9180\n",
      "Epoch 11/20\n",
      "48000/48000 [==============================] - 116s 2ms/step - loss: 0.2286 - acc: 0.9149 - val_loss: 0.2261 - val_acc: 0.9192\n",
      "Epoch 12/20\n",
      "48000/48000 [==============================] - 115s 2ms/step - loss: 0.2236 - acc: 0.9153 - val_loss: 0.2203 - val_acc: 0.9208\n",
      "Epoch 13/20\n",
      "48000/48000 [==============================] - 119s 2ms/step - loss: 0.2226 - acc: 0.9174 - val_loss: 0.2265 - val_acc: 0.9180\n",
      "Epoch 14/20\n",
      "48000/48000 [==============================] - 117s 2ms/step - loss: 0.2200 - acc: 0.9176 - val_loss: 0.2267 - val_acc: 0.9174\n",
      "Epoch 15/20\n",
      "48000/48000 [==============================] - 115s 2ms/step - loss: 0.2104 - acc: 0.9213 - val_loss: 0.2208 - val_acc: 0.9207\n",
      "Epoch 16/20\n",
      "48000/48000 [==============================] - 115s 2ms/step - loss: 0.2082 - acc: 0.9212 - val_loss: 0.2098 - val_acc: 0.9233\n",
      "Epoch 17/20\n",
      "48000/48000 [==============================] - 115s 2ms/step - loss: 0.2068 - acc: 0.9212 - val_loss: 0.2096 - val_acc: 0.9239\n",
      "Epoch 18/20\n",
      "48000/48000 [==============================] - 115s 2ms/step - loss: 0.2044 - acc: 0.9225 - val_loss: 0.2169 - val_acc: 0.9227\n",
      "Epoch 19/20\n",
      "48000/48000 [==============================] - 116s 2ms/step - loss: 0.2013 - acc: 0.9241 - val_loss: 0.2083 - val_acc: 0.9264\n",
      "Epoch 20/20\n",
      "48000/48000 [==============================] - 114s 2ms/step - loss: 0.1956 - acc: 0.9257 - val_loss: 0.2018 - val_acc: 0.9292\n"
     ]
    }
   ],
   "source": [
    "fashion_train = fashion_model2.fit(train_X, train_label, batch_size=batch_size,epochs=epochs,verbose=1,validation_data=(valid_X, valid_label))"
   ]
  },
  {
   "cell_type": "code",
   "execution_count": 32,
   "metadata": {},
   "outputs": [],
   "source": [
    "fashion_model2.save(\"fashion_model_dropout.h5py\")"
   ]
  },
  {
   "cell_type": "code",
   "execution_count": 33,
   "metadata": {},
   "outputs": [
    {
     "name": "stdout",
     "output_type": "stream",
     "text": [
      "10000/10000 [==============================] - 4s 408us/step\n"
     ]
    }
   ],
   "source": [
    "test_eval = fashion_model2.evaluate(test_X, test_Y_one_hot, verbose=1)"
   ]
  },
  {
   "cell_type": "code",
   "execution_count": 34,
   "metadata": {},
   "outputs": [
    {
     "name": "stdout",
     "output_type": "stream",
     "text": [
      "Test loss: 0.2408191696792841\n",
      "Test accuracy: 0.9137\n"
     ]
    }
   ],
   "source": [
    "print('Test loss:', test_eval[0])\n",
    "print('Test accuracy:', test_eval[1])"
   ]
  },
  {
   "cell_type": "code",
   "execution_count": 37,
   "metadata": {},
   "outputs": [
    {
     "data": {
      "image/png": "[encoded data removed]",
      "text/plain": [
       "<Figure size 432x288 with 1 Axes>"
      ]
     },
     "metadata": {
      "needs_background": "light"
     },
     "output_type": "display_data"
    },
    {
     "data": {
      "image/png": "[encoded data removed]",
      "text/plain": [
       "<Figure size 432x288 with 1 Axes>"
      ]
     },
     "metadata": {
      "needs_background": "light"
     },
     "output_type": "display_data"
    }
   ],
   "source": [
    "draw_chart()"
   ]
  },
  {
   "cell_type": "code",
   "execution_count": 38,
   "metadata": {},
   "outputs": [
    {
     "data": {
      "text/plain": [
       "((10000,), (10000,))"
      ]
     },
     "execution_count": 38,
     "metadata": {},
     "output_type": "execute_result"
    }
   ],
   "source": [
    "predicted_classes = fashion_model2.predict(test_X)\n",
    "predicted_classes = np.argmax(np.round(predicted_classes),axis=1)\n",
    "predicted_classes.shape, test_Y.shape"
   ]
  },
  {
   "cell_type": "code",
   "execution_count": 41,
   "metadata": {},
   "outputs": [
    {
     "name": "stdout",
     "output_type": "stream",
     "text": [
      "Found 9114 correct labels\n"
     ]
    },
    {
     "data": {
      "image/png": "[encoded data removed]",
      "text/plain": [
       "<Figure size 432x288 with 9 Axes>"
      ]
     },
     "metadata": {
      "needs_background": "light"
     },
     "output_type": "display_data"
    }
   ],
   "source": [
    "show_correct()"
   ]
  },
  {
   "cell_type": "code",
   "execution_count": 42,
   "metadata": {},
   "outputs": [
    {
     "name": "stdout",
     "output_type": "stream",
     "text": [
      "Found 886 incorrect labels\n"
     ]
    },
    {
     "data": {
      "image/png": "[encoded data removed]",
      "text/plain": [
       "<Figure size 432x288 with 9 Axes>"
      ]
     },
     "metadata": {
      "needs_background": "light"
     },
     "output_type": "display_data"
    }
   ],
   "source": [
    "show_incorrect()"
   ]
  },
  {
   "cell_type": "code",
   "execution_count": 43,
   "metadata": {},
   "outputs": [
    {
     "name": "stdout",
     "output_type": "stream",
     "text": [
      "              precision    recall  f1-score   support\n",
      "\n",
      "     Class 0       0.73      0.95      0.83      1000\n",
      "     Class 1       0.99      0.98      0.99      1000\n",
      "     Class 2       0.86      0.88      0.87      1000\n",
      "     Class 3       0.94      0.90      0.92      1000\n",
      "     Class 4       0.85      0.91      0.88      1000\n",
      "     Class 5       0.99      0.97      0.98      1000\n",
      "     Class 6       0.90      0.59      0.71      1000\n",
      "     Class 7       0.94      0.98      0.96      1000\n",
      "     Class 8       0.99      0.99      0.99      1000\n",
      "     Class 9       0.98      0.96      0.97      1000\n",
      "\n",
      "   micro avg       0.91      0.91      0.91     10000\n",
      "   macro avg       0.92      0.91      0.91     10000\n",
      "weighted avg       0.92      0.91      0.91     10000\n",
      "\n"
     ]
    }
   ],
   "source": [
    "target_names = [\"Class {}\".format(i) for i in range(num_classes)]\n",
    "print(classification_report(test_Y, predicted_classes, target_names=target_names))"
   ]
  },
  {
   "cell_type": "code",
   "execution_count": null,
   "metadata": {},
   "outputs": [],
   "source": []
  }
 ],
 "metadata": {
  "kernelspec": {
   "display_name": "Python 3",
   "language": "python",
   "name": "python3"
  },
  "language_info": {
   "codemirror_mode": {
    "name": "ipython",
    "version": 3
   },
   "file_extension": ".py",
   "mimetype": "text/x-python",
   "name": "python",
   "nbconvert_exporter": "python",
   "pygments_lexer": "ipython3",
   "version": "3.7.2"
  }
 },
 "nbformat": 4,
 "nbformat_minor": 2
}
